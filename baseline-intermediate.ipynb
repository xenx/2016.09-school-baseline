{
 "cells": [
  {
   "cell_type": "code",
   "execution_count": 7,
   "metadata": {
    "collapsed": false
   },
   "outputs": [],
   "source": [
    "import csv\n",
    "import random\n",
    "import concurrent.futures\n",
    "\n",
    "from itertools import *\n",
    "from functools import *\n",
    "from typing import *\n",
    "\n",
    "import numpy as np\n",
    "\n",
    "import scipy as sp\n",
    "import scipy.sparse\n",
    "import scipy.sparse.linalg\n",
    "\n",
    "from overloading import overload\n",
    "from tqdm import tqdm"
   ]
  },
  {
   "cell_type": "code",
   "execution_count": 8,
   "metadata": {
    "collapsed": false
   },
   "outputs": [],
   "source": [
    "import numpy as np\n",
    "\n",
    "def apk(actual, predicted, k=10):\n",
    "    if len(predicted)>k:\n",
    "        predicted = predicted[:k]\n",
    "\n",
    "    score = 0.0\n",
    "    num_hits = 0.0\n",
    "\n",
    "    for i,p in enumerate(predicted):\n",
    "        if p in actual and p not in predicted[:i]:\n",
    "            num_hits += 1.0\n",
    "            score += num_hits / (i+1.0)\n",
    "\n",
    "    if not actual:\n",
    "        return 0.0\n",
    "\n",
    "    return score / min(len(actual), k)"
   ]
  },
  {
   "cell_type": "code",
   "execution_count": 9,
   "metadata": {
    "collapsed": true
   },
   "outputs": [],
   "source": [
    "DATA_PREFIX = ''"
   ]
  },
  {
   "cell_type": "markdown",
   "metadata": {},
   "source": [
    "# Read data"
   ]
  },
  {
   "cell_type": "code",
   "execution_count": 10,
   "metadata": {
    "collapsed": false
   },
   "outputs": [],
   "source": [
    "import os\n",
    "os.chdir('{}/{}'.format(os.getcwd(),\n",
    "                        DATA_PREFIX))"
   ]
  },
  {
   "cell_type": "code",
   "execution_count": 11,
   "metadata": {
    "collapsed": false
   },
   "outputs": [],
   "source": [
    "def get_likes() -> Callable[[], Tuple[str, str]]:\n",
    "    \"\"\"Return an iterator over user->item edges.\"\"\"\n",
    "    train_likes_file = open('train_likes.csv')\n",
    "    reader = csv.DictReader(train_likes_file)\n",
    "    return map(lambda row: (row['user_id'], row['item_id']), reader)"
   ]
  },
  {
   "cell_type": "code",
   "execution_count": 12,
   "metadata": {
    "collapsed": false
   },
   "outputs": [],
   "source": [
    "user_item_pairs = list(get_likes())"
   ]
  },
  {
   "cell_type": "code",
   "execution_count": 13,
   "metadata": {
    "collapsed": true
   },
   "outputs": [],
   "source": [
    "users, items = map(tuple, map(set, zip(*user_item_pairs)))\n",
    "\n",
    "user_to_i = {user: i for i, user in enumerate(users)}\n",
    "item_to_i = {item: i for i, item in enumerate(items)}"
   ]
  },
  {
   "cell_type": "code",
   "execution_count": 14,
   "metadata": {
    "collapsed": false
   },
   "outputs": [],
   "source": [
    "# We could construct a CSR matrix from the very start, but that's not very convenient for holdoff\n",
    "\n",
    "#ix, iy = zip(* ((user_to_i[u],item_to_i[i]) for (u,i) in user_item_pairs) )\n",
    "#values = np.ones_like(ix,dtype='bool')\n",
    "\n",
    "#A = sp.sparse.csr_matrix((values,(ix,iy) ))"
   ]
  },
  {
   "cell_type": "code",
   "execution_count": 15,
   "metadata": {
    "collapsed": false
   },
   "outputs": [],
   "source": [
    "# Therefore, we construct a LIL matrix and, having populated it, convert to CSR\n",
    "\n",
    "A = sp.sparse.lil_matrix((len(users), len(items))) # a matrix we'll run SVD on, with some connections taken out (held off)\n",
    "A_full = sp.sparse.lil_matrix((len(users), len(items))) # a matrix we'll check against, with all connections in place\n",
    "\n",
    "for user, item in user_item_pairs:\n",
    "    A[user_to_i[user], item_to_i[item]] = (True if random.random() > 0.15 else False) # NB: non-determenistic!\n",
    "    A_full[user_to_i[user], item_to_i[item]] = True\n",
    "    \n",
    "A = A.tocsr()\n",
    "A_full = A_full.tocsr()"
   ]
  },
  {
   "cell_type": "code",
   "execution_count": 16,
   "metadata": {
    "collapsed": false
   },
   "outputs": [
    {
     "data": {
      "text/plain": [
       "<55863x23891 sparse matrix of type '<class 'numpy.float64'>'\n",
       "\twith 94147 stored elements in Compressed Sparse Row format>"
      ]
     },
     "execution_count": 16,
     "metadata": {},
     "output_type": "execute_result"
    }
   ],
   "source": [
    "A"
   ]
  },
  {
   "cell_type": "markdown",
   "metadata": {},
   "source": [
    "# SVD"
   ]
  },
  {
   "cell_type": "markdown",
   "metadata": {},
   "source": [
    "$\\DeclareMathOperator*{\\argmin}{arg\\,min}$\n",
    "There are two different ways to look at the truncated SVD of a matrix. One is the standard definition:\n",
    "\n",
    "> First you do the SVD: $\\underset{n\\times m}{X} = \\underset{n\\times n}{U} \\overset{n\\times m}{\\Sigma} \\underset{m\\times m}{V^T}$, where $U$ and $V$ are rotation matrices, and $\\Sigma$ has the singular values along the diagonal. Then you pick the top $k$ singular values, zero out the rest, and hack off irrelevant rows and columns to make a $k$-rank approximation to the original: $X \\approx \\tilde{X} = \\underset{n\\times k}{\\tilde{U}} \\overset{k\\times k}{\\tilde{\\Sigma}} \\underset{k\\times m}{\\tilde{V}^T}$\n",
    "\n",
    "This is all fine and dandy, but it doesn't make sense when talking about matrices with missing values. However, there's an interesting property of the $k$-truncated SVD--It's the best $k$-rank approximation to the original! That is:\n",
    "\n",
    "> $ \\tilde{X} = \\argmin_{B : rank(B)=k} \\displaystyle\\sum\\limits_{i,j} (X_{ij} - B_{ij})^2$\n",
    "\n",
    "This property seems easy to generalize to the missing value case. Basically you're looking for a $k$-rank matrix that minimizes the element-wise mean squared error across the known entries of the original matrix. That is, when you're training the system, you ignore all of the missing values.\n",
    "\n",
    "Then, once you've come up with a suitably \"close\" $k$-rank approximation to the original, you use it to fill in the missing values. That is, if $X_{ij}$ was missing, then you fill in $\\tilde{X}_{ij}$. Tada! You are now done.\n",
    "\n",
    "-- http://stats.stackexchange.com/a/35460"
   ]
  },
  {
   "cell_type": "code",
   "execution_count": 17,
   "metadata": {
    "collapsed": false
   },
   "outputs": [],
   "source": [
    "u, s, vt = sp.sparse.linalg.svds(A.astype(np.float32), k=100) # note the static components count. It could be optimised automatically via gradient descent on mAP."
   ]
  },
  {
   "cell_type": "code",
   "execution_count": 18,
   "metadata": {
    "collapsed": false
   },
   "outputs": [
    {
     "data": {
      "text/plain": [
       "((55863, 100), (100,), (100, 23891))"
      ]
     },
     "execution_count": 18,
     "metadata": {},
     "output_type": "execute_result"
    }
   ],
   "source": [
    "u.shape, s.shape, vt.shape"
   ]
  },
  {
   "cell_type": "code",
   "execution_count": 19,
   "metadata": {
    "collapsed": false
   },
   "outputs": [
    {
     "data": {
      "text/plain": [
       "array([[  1.51224391e-04,   1.42343738e-03,  -9.54224379e-04, ...,\n",
       "          4.31466469e-04,  -6.37803285e-04,   6.43226784e-04],\n",
       "       [ -1.08867993e-04,  -7.53359869e-04,  -2.57339634e-05, ...,\n",
       "          1.95169177e-05,  -4.19743119e-05,   3.92163674e-05],\n",
       "       [  7.27701536e-06,   1.47315220e-03,   7.23484991e-05, ...,\n",
       "          5.86809125e-03,  -2.26987083e-03,   2.85436958e-03],\n",
       "       ..., \n",
       "       [  1.98873779e-04,  -5.58835200e-05,  -5.72291428e-05, ...,\n",
       "         -4.85092896e-05,  -1.26747196e-04,   1.01339167e-04],\n",
       "       [  1.05078134e-10,   4.05027401e-11,  -2.76464768e-10, ...,\n",
       "         -8.30226513e-12,   3.82780717e-11,  -2.68037988e-11],\n",
       "       [  0.00000000e+00,   0.00000000e+00,   0.00000000e+00, ...,\n",
       "          0.00000000e+00,   0.00000000e+00,   0.00000000e+00]], dtype=float32)"
      ]
     },
     "execution_count": 19,
     "metadata": {},
     "output_type": "execute_result"
    }
   ],
   "source": [
    "u"
   ]
  },
  {
   "cell_type": "code",
   "execution_count": 20,
   "metadata": {
    "collapsed": false
   },
   "outputs": [
    {
     "data": {
      "text/plain": [
       "array([ 10.43182755,  10.44400883,  10.46144772,  10.50055122,\n",
       "        10.53884506,  10.54823303,  10.58362675,  10.60163021,\n",
       "        10.6730299 ,  10.71234226,  10.74433041,  10.8058176 ,\n",
       "        10.82253456,  10.8674984 ,  10.92055511,  10.93682289,\n",
       "        10.96995354,  11.01584435,  11.07764244,  11.10638142,\n",
       "        11.13105774,  11.15678787,  11.19907951,  11.25809669,\n",
       "        11.33368874,  11.3558588 ,  11.38833714,  11.43347359,\n",
       "        11.44468307,  11.55458164,  11.60127544,  11.61484814,\n",
       "        11.64925671,  11.71235085,  11.78900719,  11.83900833,\n",
       "        11.87044716,  11.95395088,  11.99664783,  12.03398037,\n",
       "        12.11687946,  12.16360664,  12.24505806,  12.25090599,\n",
       "        12.28740597,  12.42333698,  12.53813362,  12.61589146,\n",
       "        12.69969273,  12.72949505,  12.86244678,  12.87318993,\n",
       "        12.92994785,  13.11477375,  13.28208733,  13.32517624,\n",
       "        13.34020805,  13.53727531,  13.6368618 ,  13.65943909,\n",
       "        13.85501575,  13.8755722 ,  13.94878292,  13.99303722,\n",
       "        14.19222736,  14.29348373,  14.30552387,  14.44055367,\n",
       "        14.72133636,  14.91525555,  15.04034328,  15.11236763,\n",
       "        15.17500687,  15.354743  ,  15.55025101,  15.70904827,\n",
       "        16.02478218,  16.33451271,  16.9522953 ,  17.04620171,\n",
       "        17.37113953,  17.43702126,  17.75050545,  18.05270958,\n",
       "        18.10731506,  18.31598854,  18.60027885,  18.98412514,\n",
       "        19.36518288,  19.58772659,  20.02882767,  20.36516762,\n",
       "        21.48927689,  21.62296867,  22.3477459 ,  22.60480118,\n",
       "        23.14269257,  25.36870766,  29.63331795,  30.80906105], dtype=float32)"
      ]
     },
     "execution_count": 20,
     "metadata": {},
     "output_type": "execute_result"
    }
   ],
   "source": [
    "s"
   ]
  },
  {
   "cell_type": "code",
   "execution_count": 21,
   "metadata": {
    "collapsed": false
   },
   "outputs": [
    {
     "data": {
      "text/plain": [
       "array([[  1.70220039e-04,   6.51082781e-04,  -1.45500875e-03, ...,\n",
       "         -3.57008050e-03,   2.04894074e-10,  -3.53676267e-04],\n",
       "       [  2.09082529e-04,  -4.46078740e-03,  -4.36407002e-03, ...,\n",
       "          4.31250595e-03,  -5.78737891e-11,  -3.75625041e-06],\n",
       "       [  3.03882916e-06,   2.19747121e-03,  -8.99397768e-03, ...,\n",
       "          1.14748394e-03,  -5.25458344e-10,  -8.34933162e-05],\n",
       "       ..., \n",
       "       [  1.95548128e-05,  -3.10054515e-04,  -2.65162438e-04, ...,\n",
       "          6.15155790e-04,   2.97958824e-10,   4.95865970e-06],\n",
       "       [ -2.62769008e-05,  -7.26741040e-04,  -2.64114235e-03, ...,\n",
       "         -1.01307430e-03,   4.49148052e-10,  -8.93385368e-06],\n",
       "       [  2.77270155e-05,   5.81866130e-04,   2.21736054e-03, ...,\n",
       "          9.75851901e-04,  -3.42192830e-10,   7.28612940e-06]], dtype=float32)"
      ]
     },
     "execution_count": 21,
     "metadata": {},
     "output_type": "execute_result"
    }
   ],
   "source": [
    "vt"
   ]
  },
  {
   "cell_type": "markdown",
   "metadata": {},
   "source": [
    "# Predicting"
   ]
  },
  {
   "cell_type": "markdown",
   "metadata": {},
   "source": [
    "Let the matrix A be such that rows are the users and the columns are the items that the user likes. One way to think of SVD is as follows: SVD finds a hidden feature space where the users and items they like have feature vectors that are closely aligned.\n",
    "\n",
    "So, when we compute $A = U \\times s \\times V^T$, the $U$ matrix represents the feature vectors corresponding to the users in the hidden feature space and the $V^T$ matrix represents the feature vectors corresponding to the items in the hidden feature space.\n",
    "\n",
    "Now, if I give you two vectors from the same feature space and ask you to find if they are similar, what is the simplest thing that you can think of for accomplishing that? Dot product.\n",
    "\n",
    "So, if I want to see user $i$ likes item $j$, all I need to do is take the dot product of the $i$th entry in $U$ and $j$th entry in $V^T$. Of course, dot product is by no means the only thing you can apply, any similarity measure that you can think of is applicable.\n",
    "\n",
    "-- http://stats.stackexchange.com/a/31101"
   ]
  },
  {
   "cell_type": "code",
   "execution_count": 22,
   "metadata": {
    "collapsed": false
   },
   "outputs": [
    {
     "data": {
      "text/plain": [
       "array([[  1.16081383e-05,  -3.87252599e-04,  -4.38264105e-04, ...,\n",
       "         -2.45513103e-04,  -2.85116895e-12,  -2.98090072e-06],\n",
       "       [  4.56361959e-05,   5.82863831e-05,   8.56930783e-05, ...,\n",
       "         -2.00049762e-05,   1.77645884e-11,  -3.53352584e-06],\n",
       "       [ -6.35085053e-06,  -4.21985373e-04,  -7.82952528e-04, ...,\n",
       "         -2.69662181e-04,   9.66845493e-10,  -6.61512968e-06],\n",
       "       ..., \n",
       "       [ -2.30886212e-06,  -2.18786245e-05,  -1.69816631e-05, ...,\n",
       "         -3.56906712e-05,   2.73376374e-12,   3.44605894e-07],\n",
       "       [ -8.34535513e-07,  -2.16327200e-04,   2.69119482e-04, ...,\n",
       "          3.59944464e-03,  -2.84170847e-11,   4.41086877e-06],\n",
       "       [  7.59548420e-05,   1.63610477e-03,   4.17427393e-03, ...,\n",
       "         -1.86571432e-03,   3.44414983e-11,   1.69327031e-05]], dtype=float32)"
      ]
     },
     "execution_count": 22,
     "metadata": {},
     "output_type": "execute_result"
    }
   ],
   "source": [
    "np.dot(u[:10,] * s, vt) # get the probabilities for first ten users -> all films"
   ]
  },
  {
   "cell_type": "code",
   "execution_count": 23,
   "metadata": {
    "collapsed": false
   },
   "outputs": [
    {
     "data": {
      "text/plain": [
       "-1.8618677e-05"
      ]
     },
     "execution_count": 23,
     "metadata": {},
     "output_type": "execute_result"
    }
   ],
   "source": [
    "np.dot(u[1,:] * s, vt[:,546]) # get the probabilities for user 1 -> film 546"
   ]
  },
  {
   "cell_type": "markdown",
   "metadata": {},
   "source": [
    "### Recommended interface\n",
    "```python\n",
    "get_like_confidence(user_id: str, item_id: str) -> float\n",
    "```"
   ]
  },
  {
   "cell_type": "code",
   "execution_count": 24,
   "metadata": {
    "collapsed": false
   },
   "outputs": [],
   "source": [
    "@overload\n",
    "def get_like_confidence(user_id: int, item_id: int) -> float:\n",
    "    return np.dot(u[user_id,:] * s, vt[:,item_id])"
   ]
  },
  {
   "cell_type": "code",
   "execution_count": 25,
   "metadata": {
    "collapsed": false
   },
   "outputs": [],
   "source": [
    "@overload\n",
    "def get_like_confidence(user_id: str, item_id: str) -> float:\n",
    "    return get_like_confidence(user_to_i[user_id],\n",
    "                               item_to_i[item_id])"
   ]
  },
  {
   "cell_type": "code",
   "execution_count": 26,
   "metadata": {
    "collapsed": false
   },
   "outputs": [
    {
     "data": {
      "text/plain": [
       "0.00033780001"
      ]
     },
     "execution_count": 26,
     "metadata": {},
     "output_type": "execute_result"
    }
   ],
   "source": [
    "get_like_confidence('70a2805f307f49ec42d4309190daa587', '0ccd2d96eb4b393ecb8cf4e55a6544b6')"
   ]
  },
  {
   "cell_type": "code",
   "execution_count": 27,
   "metadata": {
    "collapsed": false
   },
   "outputs": [
    {
     "name": "stdout",
     "output_type": "stream",
     "text": [
      "5.12165e-17\n",
      "0.992627\n",
      "7.29326e-06\n",
      "0.128027\n",
      "0.0\n",
      "0.99172\n",
      "0.992728\n",
      "0.995031\n",
      "3.2594e-10\n",
      "1.00534\n"
     ]
    }
   ],
   "source": [
    "for i, j in list(islice(get_likes(), 10)):\n",
    "    x = get_like_confidence(i, j)\n",
    "    print(x)"
   ]
  },
  {
   "cell_type": "markdown",
   "metadata": {},
   "source": [
    "### Ranking interface\n",
    "```python\n",
    "def recommend(user_id: str, k: int=10) -> Sequence[str]\n",
    "```"
   ]
  },
  {
   "cell_type": "code",
   "execution_count": 28,
   "metadata": {
    "collapsed": false
   },
   "outputs": [],
   "source": [
    "@overload\n",
    "def recommend(user_id: int, k: int=10) -> Sequence[int]:\n",
    "    \n",
    "    result = np.dot(u[user_id,:] * s, vt).argsort()[::-1]\n",
    "\n",
    "    if k is None:\n",
    "        # do not truncate\n",
    "        return result\n",
    "    \n",
    "    return result[:k]"
   ]
  },
  {
   "cell_type": "code",
   "execution_count": 29,
   "metadata": {
    "collapsed": true
   },
   "outputs": [],
   "source": [
    "@overload\n",
    "def recommend(user_id: str, k: int=10) -> Sequence[str]:\n",
    "    return list(map(lambda x: items[x], recommend(user_to_i[user_id], k)))"
   ]
  },
  {
   "cell_type": "code",
   "execution_count": 30,
   "metadata": {
    "collapsed": false
   },
   "outputs": [
    {
     "data": {
      "text/plain": [
       "array([23661, 23442,  3549, 14202, 21786, 20269,  3125,  8595, 19871,  8071])"
      ]
     },
     "execution_count": 30,
     "metadata": {},
     "output_type": "execute_result"
    }
   ],
   "source": [
    "recommend(0)"
   ]
  },
  {
   "cell_type": "code",
   "execution_count": 31,
   "metadata": {
    "collapsed": false
   },
   "outputs": [
    {
     "data": {
      "text/plain": [
       "['e1cdbda92a8167c8a6c994872fd32b3e',\n",
       " '8780d3bc34fcfccf5a76850bd58d3952',\n",
       " '7b098a5f5901ab25acd03bb602919032',\n",
       " 'b513db7287f1b585a7cffc82251e0219',\n",
       " '8f224d9f39b532b174f0147b8bfc9aa3']"
      ]
     },
     "execution_count": 31,
     "metadata": {},
     "output_type": "execute_result"
    }
   ],
   "source": [
    "recommend('70a2805f307f49ec42d4309190daa587', k=5)"
   ]
  },
  {
   "cell_type": "markdown",
   "metadata": {},
   "source": [
    "# Check"
   ]
  },
  {
   "cell_type": "markdown",
   "metadata": {},
   "source": [
    "Here, we estimate quality of our predictions via mAP@k - a ranking metric (like NDCG) which values the order of elements in addition to their plain accountance in the recommendation.\n",
    "\n",
    "**Note** that the models cannot be compared (a) with different `k` and (b) by results of one run due to the population process being non-determenistic."
   ]
  },
  {
   "cell_type": "code",
   "execution_count": 32,
   "metadata": {
    "collapsed": true
   },
   "outputs": [],
   "source": [
    "def get_actual(user_id: int) -> Sequence[int]:\n",
    "    \"\"\"Returns items user actually liked (ground truth).\"\"\"\n",
    "    return np.where(A_full[user_id, :].toarray()[0] == 1)[0]"
   ]
  },
  {
   "cell_type": "code",
   "execution_count": 33,
   "metadata": {
    "collapsed": false
   },
   "outputs": [
    {
     "data": {
      "text/plain": [
       "array([2328])"
      ]
     },
     "execution_count": 33,
     "metadata": {},
     "output_type": "execute_result"
    }
   ],
   "source": [
    "get_actual(4214)"
   ]
  },
  {
   "cell_type": "code",
   "execution_count": 34,
   "metadata": {
    "collapsed": false
   },
   "outputs": [
    {
     "data": {
      "text/plain": [
       "0.16666666666666666"
      ]
     },
     "execution_count": 34,
     "metadata": {},
     "output_type": "execute_result"
    }
   ],
   "source": [
    "# AP for user 0\n",
    "\n",
    "apk(get_actual(0),\n",
    "    recommend(0))"
   ]
  },
  {
   "cell_type": "code",
   "execution_count": 35,
   "metadata": {
    "collapsed": true
   },
   "outputs": [],
   "source": [
    "def apk_i(user_i: int, k: int=10):\n",
    "    \"\"\"Get Average Precision at k for ith user.\"\"\"\n",
    "\n",
    "    if k is None:\n",
    "        k = len(predicted)\n",
    "\n",
    "    return apk(get_actual(user_i),\n",
    "               recommend(user_i),\n",
    "               k)"
   ]
  },
  {
   "cell_type": "code",
   "execution_count": 36,
   "metadata": {
    "collapsed": false
   },
   "outputs": [
    {
     "data": {
      "text/plain": [
       "0.16666666666666666"
      ]
     },
     "execution_count": 36,
     "metadata": {},
     "output_type": "execute_result"
    }
   ],
   "source": [
    "apk_i(0)"
   ]
  },
  {
   "cell_type": "code",
   "execution_count": 37,
   "metadata": {
    "collapsed": false
   },
   "outputs": [],
   "source": [
    "def apk_n(n: int=len(users), k: int=10):\n",
    "    \"\"\"Get Average Precision at k for n users.\n",
    "    \n",
    "    Note that some time *after* the progress counter reaches 100% is needed for function to return a result; that's an unfortunate side-effect of multi-processing.\n",
    "    \n",
    "    :param n: How many users to account. Use smaller numbers for debugging and leave it at default to get the final score.\n",
    "    \"\"\"\n",
    "    \n",
    "    with concurrent.futures.ProcessPoolExecutor() as e:\n",
    "        return e.map(partial(apk_i, k=k),\n",
    "                     tqdm(range(n)))"
   ]
  },
  {
   "cell_type": "code",
   "execution_count": 38,
   "metadata": {
    "collapsed": false,
    "scrolled": true
   },
   "outputs": [
    {
     "name": "stderr",
     "output_type": "stream",
     "text": [
      "100%|██████████| 100/100 [00:00<00:00, 1660.86it/s]\n"
     ]
    },
    {
     "ename": "ValueError",
     "evalue": "The truth value of an array with more than one element is ambiguous. Use a.any() or a.all()",
     "output_type": "error",
     "traceback": [
      "\u001b[1;31m---------------------------------------------------------------------------\u001b[0m",
      "\u001b[1;31m_RemoteTraceback\u001b[0m                          Traceback (most recent call last)",
      "\u001b[1;31m_RemoteTraceback\u001b[0m: \n\"\"\"\nTraceback (most recent call last):\n  File \"/root/anaconda3/lib/python3.5/concurrent/futures/process.py\", line 175, in _process_worker\n    r = call_item.fn(*call_item.args, **call_item.kwargs)\n  File \"/root/anaconda3/lib/python3.5/concurrent/futures/process.py\", line 153, in _process_chunk\n    return [fn(*args) for args in chunk]\n  File \"/root/anaconda3/lib/python3.5/concurrent/futures/process.py\", line 153, in <listcomp>\n    return [fn(*args) for args in chunk]\n  File \"<ipython-input-35-a82dde250115>\", line 9, in apk_i\n    k)\n  File \"<ipython-input-8-ff0e539c2134>\", line 15, in apk\n    if not actual:\nValueError: The truth value of an array with more than one element is ambiguous. Use a.any() or a.all()\n\"\"\"",
      "\nThe above exception was the direct cause of the following exception:\n",
      "\u001b[1;31mValueError\u001b[0m                                Traceback (most recent call last)",
      "\u001b[1;32m<ipython-input-38-763025d48136>\u001b[0m in \u001b[0;36m<module>\u001b[1;34m()\u001b[0m\n\u001b[1;32m----> 1\u001b[1;33m \u001b[0mtuple\u001b[0m\u001b[1;33m(\u001b[0m\u001b[0mapk_n\u001b[0m\u001b[1;33m(\u001b[0m\u001b[1;36m100\u001b[0m\u001b[1;33m)\u001b[0m\u001b[1;33m)\u001b[0m\u001b[1;33m\u001b[0m\u001b[0m\n\u001b[0m",
      "\u001b[1;32m/root/anaconda3/lib/python3.5/concurrent/futures/_base.py\u001b[0m in \u001b[0;36mresult_iterator\u001b[1;34m()\u001b[0m\n\u001b[0;32m    554\u001b[0m                 \u001b[1;32mfor\u001b[0m \u001b[0mfuture\u001b[0m \u001b[1;32min\u001b[0m \u001b[0mfs\u001b[0m\u001b[1;33m:\u001b[0m\u001b[1;33m\u001b[0m\u001b[0m\n\u001b[0;32m    555\u001b[0m                     \u001b[1;32mif\u001b[0m \u001b[0mtimeout\u001b[0m \u001b[1;32mis\u001b[0m \u001b[1;32mNone\u001b[0m\u001b[1;33m:\u001b[0m\u001b[1;33m\u001b[0m\u001b[0m\n\u001b[1;32m--> 556\u001b[1;33m                         \u001b[1;32myield\u001b[0m \u001b[0mfuture\u001b[0m\u001b[1;33m.\u001b[0m\u001b[0mresult\u001b[0m\u001b[1;33m(\u001b[0m\u001b[1;33m)\u001b[0m\u001b[1;33m\u001b[0m\u001b[0m\n\u001b[0m\u001b[0;32m    557\u001b[0m                     \u001b[1;32melse\u001b[0m\u001b[1;33m:\u001b[0m\u001b[1;33m\u001b[0m\u001b[0m\n\u001b[0;32m    558\u001b[0m                         \u001b[1;32myield\u001b[0m \u001b[0mfuture\u001b[0m\u001b[1;33m.\u001b[0m\u001b[0mresult\u001b[0m\u001b[1;33m(\u001b[0m\u001b[0mend_time\u001b[0m \u001b[1;33m-\u001b[0m \u001b[0mtime\u001b[0m\u001b[1;33m.\u001b[0m\u001b[0mtime\u001b[0m\u001b[1;33m(\u001b[0m\u001b[1;33m)\u001b[0m\u001b[1;33m)\u001b[0m\u001b[1;33m\u001b[0m\u001b[0m\n",
      "\u001b[1;32m/root/anaconda3/lib/python3.5/concurrent/futures/_base.py\u001b[0m in \u001b[0;36mresult\u001b[1;34m(self, timeout)\u001b[0m\n\u001b[0;32m    396\u001b[0m                 \u001b[1;32mraise\u001b[0m \u001b[0mCancelledError\u001b[0m\u001b[1;33m(\u001b[0m\u001b[1;33m)\u001b[0m\u001b[1;33m\u001b[0m\u001b[0m\n\u001b[0;32m    397\u001b[0m             \u001b[1;32melif\u001b[0m \u001b[0mself\u001b[0m\u001b[1;33m.\u001b[0m\u001b[0m_state\u001b[0m \u001b[1;33m==\u001b[0m \u001b[0mFINISHED\u001b[0m\u001b[1;33m:\u001b[0m\u001b[1;33m\u001b[0m\u001b[0m\n\u001b[1;32m--> 398\u001b[1;33m                 \u001b[1;32mreturn\u001b[0m \u001b[0mself\u001b[0m\u001b[1;33m.\u001b[0m\u001b[0m__get_result\u001b[0m\u001b[1;33m(\u001b[0m\u001b[1;33m)\u001b[0m\u001b[1;33m\u001b[0m\u001b[0m\n\u001b[0m\u001b[0;32m    399\u001b[0m \u001b[1;33m\u001b[0m\u001b[0m\n\u001b[0;32m    400\u001b[0m             \u001b[0mself\u001b[0m\u001b[1;33m.\u001b[0m\u001b[0m_condition\u001b[0m\u001b[1;33m.\u001b[0m\u001b[0mwait\u001b[0m\u001b[1;33m(\u001b[0m\u001b[0mtimeout\u001b[0m\u001b[1;33m)\u001b[0m\u001b[1;33m\u001b[0m\u001b[0m\n",
      "\u001b[1;32m/root/anaconda3/lib/python3.5/concurrent/futures/_base.py\u001b[0m in \u001b[0;36m__get_result\u001b[1;34m(self)\u001b[0m\n\u001b[0;32m    355\u001b[0m     \u001b[1;32mdef\u001b[0m \u001b[0m__get_result\u001b[0m\u001b[1;33m(\u001b[0m\u001b[0mself\u001b[0m\u001b[1;33m)\u001b[0m\u001b[1;33m:\u001b[0m\u001b[1;33m\u001b[0m\u001b[0m\n\u001b[0;32m    356\u001b[0m         \u001b[1;32mif\u001b[0m \u001b[0mself\u001b[0m\u001b[1;33m.\u001b[0m\u001b[0m_exception\u001b[0m\u001b[1;33m:\u001b[0m\u001b[1;33m\u001b[0m\u001b[0m\n\u001b[1;32m--> 357\u001b[1;33m             \u001b[1;32mraise\u001b[0m \u001b[0mself\u001b[0m\u001b[1;33m.\u001b[0m\u001b[0m_exception\u001b[0m\u001b[1;33m\u001b[0m\u001b[0m\n\u001b[0m\u001b[0;32m    358\u001b[0m         \u001b[1;32melse\u001b[0m\u001b[1;33m:\u001b[0m\u001b[1;33m\u001b[0m\u001b[0m\n\u001b[0;32m    359\u001b[0m             \u001b[1;32mreturn\u001b[0m \u001b[0mself\u001b[0m\u001b[1;33m.\u001b[0m\u001b[0m_result\u001b[0m\u001b[1;33m\u001b[0m\u001b[0m\n",
      "\u001b[1;31mValueError\u001b[0m: The truth value of an array with more than one element is ambiguous. Use a.any() or a.all()"
     ]
    }
   ],
   "source": [
    "tuple(apk_n(100))"
   ]
  },
  {
   "cell_type": "code",
   "execution_count": 39,
   "metadata": {
    "collapsed": true
   },
   "outputs": [],
   "source": [
    "def mapk_n(n: int=len(users), k: int=10):\n",
    "    \"\"\"Get mean Average Precision at k for n users.\n",
    "    \n",
    "    :param n: How many users to account. Use smaller numbers for debugging and leave it at default to get the final score.\n",
    "    \"\"\"\n",
    "    \n",
    "    return np.mean(tuple(apk_n(n, k)))"
   ]
  },
  {
   "cell_type": "code",
   "execution_count": 41,
   "metadata": {
    "collapsed": false
   },
   "outputs": [
    {
     "name": "stderr",
     "output_type": "stream",
     "text": [
      "100%|██████████| 10/10 [00:00<00:00, 266.25it/s]\n"
     ]
    },
    {
     "ename": "ValueError",
     "evalue": "The truth value of an array with more than one element is ambiguous. Use a.any() or a.all()",
     "output_type": "error",
     "traceback": [
      "\u001b[1;31m---------------------------------------------------------------------------\u001b[0m",
      "\u001b[1;31m_RemoteTraceback\u001b[0m                          Traceback (most recent call last)",
      "\u001b[1;31m_RemoteTraceback\u001b[0m: \n\"\"\"\nTraceback (most recent call last):\n  File \"/root/anaconda3/lib/python3.5/concurrent/futures/process.py\", line 175, in _process_worker\n    r = call_item.fn(*call_item.args, **call_item.kwargs)\n  File \"/root/anaconda3/lib/python3.5/concurrent/futures/process.py\", line 153, in _process_chunk\n    return [fn(*args) for args in chunk]\n  File \"/root/anaconda3/lib/python3.5/concurrent/futures/process.py\", line 153, in <listcomp>\n    return [fn(*args) for args in chunk]\n  File \"<ipython-input-35-a82dde250115>\", line 9, in apk_i\n    k)\n  File \"<ipython-input-8-ff0e539c2134>\", line 15, in apk\n    if not actual:\nValueError: The truth value of an array with more than one element is ambiguous. Use a.any() or a.all()\n\"\"\"",
      "\nThe above exception was the direct cause of the following exception:\n",
      "\u001b[1;31mValueError\u001b[0m                                Traceback (most recent call last)",
      "\u001b[1;32m<ipython-input-41-2263876e2b63>\u001b[0m in \u001b[0;36m<module>\u001b[1;34m()\u001b[0m\n\u001b[1;32m----> 1\u001b[1;33m \u001b[0mmapk_n\u001b[0m\u001b[1;33m(\u001b[0m\u001b[1;36m10\u001b[0m\u001b[1;33m)\u001b[0m\u001b[1;33m\u001b[0m\u001b[0m\n\u001b[0m",
      "\u001b[1;32m<ipython-input-39-4029c9a5c426>\u001b[0m in \u001b[0;36mmapk_n\u001b[1;34m(n, k)\u001b[0m\n\u001b[0;32m      5\u001b[0m     \"\"\"\n\u001b[0;32m      6\u001b[0m \u001b[1;33m\u001b[0m\u001b[0m\n\u001b[1;32m----> 7\u001b[1;33m     \u001b[1;32mreturn\u001b[0m \u001b[0mnp\u001b[0m\u001b[1;33m.\u001b[0m\u001b[0mmean\u001b[0m\u001b[1;33m(\u001b[0m\u001b[0mtuple\u001b[0m\u001b[1;33m(\u001b[0m\u001b[0mapk_n\u001b[0m\u001b[1;33m(\u001b[0m\u001b[0mn\u001b[0m\u001b[1;33m,\u001b[0m \u001b[0mk\u001b[0m\u001b[1;33m)\u001b[0m\u001b[1;33m)\u001b[0m\u001b[1;33m)\u001b[0m\u001b[1;33m\u001b[0m\u001b[0m\n\u001b[0m",
      "\u001b[1;32m/root/anaconda3/lib/python3.5/concurrent/futures/_base.py\u001b[0m in \u001b[0;36mresult_iterator\u001b[1;34m()\u001b[0m\n\u001b[0;32m    554\u001b[0m                 \u001b[1;32mfor\u001b[0m \u001b[0mfuture\u001b[0m \u001b[1;32min\u001b[0m \u001b[0mfs\u001b[0m\u001b[1;33m:\u001b[0m\u001b[1;33m\u001b[0m\u001b[0m\n\u001b[0;32m    555\u001b[0m                     \u001b[1;32mif\u001b[0m \u001b[0mtimeout\u001b[0m \u001b[1;32mis\u001b[0m \u001b[1;32mNone\u001b[0m\u001b[1;33m:\u001b[0m\u001b[1;33m\u001b[0m\u001b[0m\n\u001b[1;32m--> 556\u001b[1;33m                         \u001b[1;32myield\u001b[0m \u001b[0mfuture\u001b[0m\u001b[1;33m.\u001b[0m\u001b[0mresult\u001b[0m\u001b[1;33m(\u001b[0m\u001b[1;33m)\u001b[0m\u001b[1;33m\u001b[0m\u001b[0m\n\u001b[0m\u001b[0;32m    557\u001b[0m                     \u001b[1;32melse\u001b[0m\u001b[1;33m:\u001b[0m\u001b[1;33m\u001b[0m\u001b[0m\n\u001b[0;32m    558\u001b[0m                         \u001b[1;32myield\u001b[0m \u001b[0mfuture\u001b[0m\u001b[1;33m.\u001b[0m\u001b[0mresult\u001b[0m\u001b[1;33m(\u001b[0m\u001b[0mend_time\u001b[0m \u001b[1;33m-\u001b[0m \u001b[0mtime\u001b[0m\u001b[1;33m.\u001b[0m\u001b[0mtime\u001b[0m\u001b[1;33m(\u001b[0m\u001b[1;33m)\u001b[0m\u001b[1;33m)\u001b[0m\u001b[1;33m\u001b[0m\u001b[0m\n",
      "\u001b[1;32m/root/anaconda3/lib/python3.5/concurrent/futures/_base.py\u001b[0m in \u001b[0;36mresult\u001b[1;34m(self, timeout)\u001b[0m\n\u001b[0;32m    396\u001b[0m                 \u001b[1;32mraise\u001b[0m \u001b[0mCancelledError\u001b[0m\u001b[1;33m(\u001b[0m\u001b[1;33m)\u001b[0m\u001b[1;33m\u001b[0m\u001b[0m\n\u001b[0;32m    397\u001b[0m             \u001b[1;32melif\u001b[0m \u001b[0mself\u001b[0m\u001b[1;33m.\u001b[0m\u001b[0m_state\u001b[0m \u001b[1;33m==\u001b[0m \u001b[0mFINISHED\u001b[0m\u001b[1;33m:\u001b[0m\u001b[1;33m\u001b[0m\u001b[0m\n\u001b[1;32m--> 398\u001b[1;33m                 \u001b[1;32mreturn\u001b[0m \u001b[0mself\u001b[0m\u001b[1;33m.\u001b[0m\u001b[0m__get_result\u001b[0m\u001b[1;33m(\u001b[0m\u001b[1;33m)\u001b[0m\u001b[1;33m\u001b[0m\u001b[0m\n\u001b[0m\u001b[0;32m    399\u001b[0m \u001b[1;33m\u001b[0m\u001b[0m\n\u001b[0;32m    400\u001b[0m             \u001b[0mself\u001b[0m\u001b[1;33m.\u001b[0m\u001b[0m_condition\u001b[0m\u001b[1;33m.\u001b[0m\u001b[0mwait\u001b[0m\u001b[1;33m(\u001b[0m\u001b[0mtimeout\u001b[0m\u001b[1;33m)\u001b[0m\u001b[1;33m\u001b[0m\u001b[0m\n",
      "\u001b[1;32m/root/anaconda3/lib/python3.5/concurrent/futures/_base.py\u001b[0m in \u001b[0;36m__get_result\u001b[1;34m(self)\u001b[0m\n\u001b[0;32m    355\u001b[0m     \u001b[1;32mdef\u001b[0m \u001b[0m__get_result\u001b[0m\u001b[1;33m(\u001b[0m\u001b[0mself\u001b[0m\u001b[1;33m)\u001b[0m\u001b[1;33m:\u001b[0m\u001b[1;33m\u001b[0m\u001b[0m\n\u001b[0;32m    356\u001b[0m         \u001b[1;32mif\u001b[0m \u001b[0mself\u001b[0m\u001b[1;33m.\u001b[0m\u001b[0m_exception\u001b[0m\u001b[1;33m:\u001b[0m\u001b[1;33m\u001b[0m\u001b[0m\n\u001b[1;32m--> 357\u001b[1;33m             \u001b[1;32mraise\u001b[0m \u001b[0mself\u001b[0m\u001b[1;33m.\u001b[0m\u001b[0m_exception\u001b[0m\u001b[1;33m\u001b[0m\u001b[0m\n\u001b[0m\u001b[0;32m    358\u001b[0m         \u001b[1;32melse\u001b[0m\u001b[1;33m:\u001b[0m\u001b[1;33m\u001b[0m\u001b[0m\n\u001b[0;32m    359\u001b[0m             \u001b[1;32mreturn\u001b[0m \u001b[0mself\u001b[0m\u001b[1;33m.\u001b[0m\u001b[0m_result\u001b[0m\u001b[1;33m\u001b[0m\u001b[0m\n",
      "\u001b[1;31mValueError\u001b[0m: The truth value of an array with more than one element is ambiguous. Use a.any() or a.all()"
     ]
    }
   ],
   "source": [
    "mapk_n(10)"
   ]
  },
  {
   "cell_type": "code",
   "execution_count": null,
   "metadata": {
    "collapsed": true
   },
   "outputs": [],
   "source": []
  }
 ],
 "metadata": {
  "kernelspec": {
   "display_name": "Python 3",
   "language": "python",
   "name": "python3"
  },
  "language_info": {
   "codemirror_mode": {
    "name": "ipython",
    "version": 3
   },
   "file_extension": ".py",
   "mimetype": "text/x-python",
   "name": "python",
   "nbconvert_exporter": "python",
   "pygments_lexer": "ipython3",
   "version": "3.5.1"
  }
 },
 "nbformat": 4,
 "nbformat_minor": 0
}
